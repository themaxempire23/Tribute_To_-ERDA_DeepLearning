{
  "nbformat": 4,
  "nbformat_minor": 0,
  "metadata": {
    "colab": {
      "provenance": [],
      "mount_file_id": "1wgC89TjVBR7ZeWSGBoEpSkUe2B_sVmP3",
      "authorship_tag": "ABX9TyOJ+EedmUdvHYw0hGcVOrwL",
      "include_colab_link": true
    },
    "kernelspec": {
      "name": "python3",
      "display_name": "Python 3"
    },
    "language_info": {
      "name": "python"
    }
  },
  "cells": [
    {
      "cell_type": "markdown",
      "metadata": {
        "id": "view-in-github",
        "colab_type": "text"
      },
      "source": [
        "<a href=\"https://colab.research.google.com/github/themaxempire23/tribute_to_erda/blob/main/EasyOcr.ipynb\" target=\"_parent\"><img src=\"https://colab.research.google.com/assets/colab-badge.svg\" alt=\"Open In Colab\"/></a>"
      ]
    },
    {
      "cell_type": "code",
      "execution_count": 4,
      "metadata": {
        "colab": {
          "base_uri": "https://localhost:8080/"
        },
        "collapsed": true,
        "id": "Rl5dz3ka6YQn",
        "outputId": "7fce711a-d9d9-404e-b3ee-74e00d9cc996"
      },
      "outputs": [
        {
          "output_type": "stream",
          "name": "stdout",
          "text": [
            "Collecting easyocr\n",
            "  Downloading easyocr-1.7.2-py3-none-any.whl.metadata (10 kB)\n",
            "Requirement already satisfied: torch in /usr/local/lib/python3.10/dist-packages (from easyocr) (2.4.1+cu121)\n",
            "Requirement already satisfied: torchvision>=0.5 in /usr/local/lib/python3.10/dist-packages (from easyocr) (0.19.1+cu121)\n",
            "Requirement already satisfied: opencv-python-headless in /usr/local/lib/python3.10/dist-packages (from easyocr) (4.10.0.84)\n",
            "Requirement already satisfied: scipy in /usr/local/lib/python3.10/dist-packages (from easyocr) (1.13.1)\n",
            "Requirement already satisfied: numpy in /usr/local/lib/python3.10/dist-packages (from easyocr) (1.26.4)\n",
            "Requirement already satisfied: Pillow in /usr/local/lib/python3.10/dist-packages (from easyocr) (10.4.0)\n",
            "Requirement already satisfied: scikit-image in /usr/local/lib/python3.10/dist-packages (from easyocr) (0.24.0)\n",
            "Collecting python-bidi (from easyocr)\n",
            "  Downloading python_bidi-0.6.3-cp310-cp310-manylinux_2_17_x86_64.manylinux2014_x86_64.whl.metadata (4.9 kB)\n",
            "Requirement already satisfied: PyYAML in /usr/local/lib/python3.10/dist-packages (from easyocr) (6.0.2)\n",
            "Requirement already satisfied: Shapely in /usr/local/lib/python3.10/dist-packages (from easyocr) (2.0.6)\n",
            "Collecting pyclipper (from easyocr)\n",
            "  Downloading pyclipper-1.3.0.post6-cp310-cp310-manylinux_2_12_x86_64.manylinux2010_x86_64.whl.metadata (9.0 kB)\n",
            "Collecting ninja (from easyocr)\n",
            "  Downloading ninja-1.11.1.1-py2.py3-none-manylinux1_x86_64.manylinux_2_5_x86_64.whl.metadata (5.3 kB)\n",
            "Requirement already satisfied: filelock in /usr/local/lib/python3.10/dist-packages (from torch->easyocr) (3.16.1)\n",
            "Requirement already satisfied: typing-extensions>=4.8.0 in /usr/local/lib/python3.10/dist-packages (from torch->easyocr) (4.12.2)\n",
            "Requirement already satisfied: sympy in /usr/local/lib/python3.10/dist-packages (from torch->easyocr) (1.13.3)\n",
            "Requirement already satisfied: networkx in /usr/local/lib/python3.10/dist-packages (from torch->easyocr) (3.4.1)\n",
            "Requirement already satisfied: jinja2 in /usr/local/lib/python3.10/dist-packages (from torch->easyocr) (3.1.4)\n",
            "Requirement already satisfied: fsspec in /usr/local/lib/python3.10/dist-packages (from torch->easyocr) (2024.6.1)\n",
            "Requirement already satisfied: imageio>=2.33 in /usr/local/lib/python3.10/dist-packages (from scikit-image->easyocr) (2.35.1)\n",
            "Requirement already satisfied: tifffile>=2022.8.12 in /usr/local/lib/python3.10/dist-packages (from scikit-image->easyocr) (2024.9.20)\n",
            "Requirement already satisfied: packaging>=21 in /usr/local/lib/python3.10/dist-packages (from scikit-image->easyocr) (24.1)\n",
            "Requirement already satisfied: lazy-loader>=0.4 in /usr/local/lib/python3.10/dist-packages (from scikit-image->easyocr) (0.4)\n",
            "Requirement already satisfied: MarkupSafe>=2.0 in /usr/local/lib/python3.10/dist-packages (from jinja2->torch->easyocr) (3.0.1)\n",
            "Requirement already satisfied: mpmath<1.4,>=1.1.0 in /usr/local/lib/python3.10/dist-packages (from sympy->torch->easyocr) (1.3.0)\n",
            "Downloading easyocr-1.7.2-py3-none-any.whl (2.9 MB)\n",
            "\u001b[2K   \u001b[90m━━━━━━━━━━━━━━━━━━━━━━━━━━━━━━━━━━━━━━━━\u001b[0m \u001b[32m2.9/2.9 MB\u001b[0m \u001b[31m28.0 MB/s\u001b[0m eta \u001b[36m0:00:00\u001b[0m\n",
            "\u001b[?25hDownloading ninja-1.11.1.1-py2.py3-none-manylinux1_x86_64.manylinux_2_5_x86_64.whl (307 kB)\n",
            "\u001b[2K   \u001b[90m━━━━━━━━━━━━━━━━━━━━━━━━━━━━━━━━━━━━━━━━\u001b[0m \u001b[32m307.2/307.2 kB\u001b[0m \u001b[31m22.7 MB/s\u001b[0m eta \u001b[36m0:00:00\u001b[0m\n",
            "\u001b[?25hDownloading pyclipper-1.3.0.post6-cp310-cp310-manylinux_2_12_x86_64.manylinux2010_x86_64.whl (912 kB)\n",
            "\u001b[2K   \u001b[90m━━━━━━━━━━━━━━━━━━━━━━━━━━━━━━━━━━━━━━━━\u001b[0m \u001b[32m912.2/912.2 kB\u001b[0m \u001b[31m40.9 MB/s\u001b[0m eta \u001b[36m0:00:00\u001b[0m\n",
            "\u001b[?25hDownloading python_bidi-0.6.3-cp310-cp310-manylinux_2_17_x86_64.manylinux2014_x86_64.whl (286 kB)\n",
            "\u001b[2K   \u001b[90m━━━━━━━━━━━━━━━━━━━━━━━━━━━━━━━━━━━━━━━━\u001b[0m \u001b[32m286.8/286.8 kB\u001b[0m \u001b[31m21.1 MB/s\u001b[0m eta \u001b[36m0:00:00\u001b[0m\n",
            "\u001b[?25hInstalling collected packages: python-bidi, pyclipper, ninja, easyocr\n",
            "Successfully installed easyocr-1.7.2 ninja-1.11.1.1 pyclipper-1.3.0.post6 python-bidi-0.6.3\n"
          ]
        }
      ],
      "source": [
        "!pip install easyocr"
      ]
    },
    {
      "cell_type": "code",
      "source": [
        "!pip install matplotlib"
      ],
      "metadata": {
        "colab": {
          "base_uri": "https://localhost:8080/"
        },
        "collapsed": true,
        "id": "-nvj8cc67Dmr",
        "outputId": "cfb58631-ca27-4366-d384-c77f70803fd5"
      },
      "execution_count": 11,
      "outputs": [
        {
          "output_type": "stream",
          "name": "stdout",
          "text": [
            "Requirement already satisfied: matplotlib in /usr/local/lib/python3.10/dist-packages (3.7.1)\n",
            "Requirement already satisfied: contourpy>=1.0.1 in /usr/local/lib/python3.10/dist-packages (from matplotlib) (1.3.0)\n",
            "Requirement already satisfied: cycler>=0.10 in /usr/local/lib/python3.10/dist-packages (from matplotlib) (0.12.1)\n",
            "Requirement already satisfied: fonttools>=4.22.0 in /usr/local/lib/python3.10/dist-packages (from matplotlib) (4.54.1)\n",
            "Requirement already satisfied: kiwisolver>=1.0.1 in /usr/local/lib/python3.10/dist-packages (from matplotlib) (1.4.7)\n",
            "Requirement already satisfied: numpy>=1.20 in /usr/local/lib/python3.10/dist-packages (from matplotlib) (1.26.4)\n",
            "Requirement already satisfied: packaging>=20.0 in /usr/local/lib/python3.10/dist-packages (from matplotlib) (24.1)\n",
            "Requirement already satisfied: pillow>=6.2.0 in /usr/local/lib/python3.10/dist-packages (from matplotlib) (10.4.0)\n",
            "Requirement already satisfied: pyparsing>=2.3.1 in /usr/local/lib/python3.10/dist-packages (from matplotlib) (3.2.0)\n",
            "Requirement already satisfied: python-dateutil>=2.7 in /usr/local/lib/python3.10/dist-packages (from matplotlib) (2.8.2)\n",
            "Requirement already satisfied: six>=1.5 in /usr/local/lib/python3.10/dist-packages (from python-dateutil>=2.7->matplotlib) (1.16.0)\n"
          ]
        }
      ]
    },
    {
      "cell_type": "code",
      "source": [
        "!pip install opencv-python-headless"
      ],
      "metadata": {
        "colab": {
          "base_uri": "https://localhost:8080/"
        },
        "collapsed": true,
        "id": "j6b2oGgB8G2c",
        "outputId": "16f0ecd8-9855-4832-8c6e-a413a0cd91a3"
      },
      "execution_count": 12,
      "outputs": [
        {
          "output_type": "stream",
          "name": "stdout",
          "text": [
            "Requirement already satisfied: opencv-python-headless in /usr/local/lib/python3.10/dist-packages (4.10.0.84)\n",
            "Requirement already satisfied: numpy>=1.21.2 in /usr/local/lib/python3.10/dist-packages (from opencv-python-headless) (1.26.4)\n"
          ]
        }
      ]
    },
    {
      "cell_type": "code",
      "source": [
        "!pip install opencv-python"
      ],
      "metadata": {
        "colab": {
          "base_uri": "https://localhost:8080/"
        },
        "id": "13Mzm5gfRUiW",
        "outputId": "45353c8c-73fe-4d57-8e88-4492d5a1fd20"
      },
      "execution_count": null,
      "outputs": [
        {
          "output_type": "stream",
          "name": "stdout",
          "text": [
            "Requirement already satisfied: opencv-python in /usr/local/lib/python3.10/dist-packages (4.10.0.84)\n",
            "Requirement already satisfied: numpy>=1.21.2 in /usr/local/lib/python3.10/dist-packages (from opencv-python) (1.26.4)\n"
          ]
        }
      ]
    },
    {
      "cell_type": "code",
      "source": [
        "import cv2"
      ],
      "metadata": {
        "id": "BRgGw6Mr93Qm"
      },
      "execution_count": 26,
      "outputs": []
    },
    {
      "cell_type": "code",
      "source": [
        "import easyocr"
      ],
      "metadata": {
        "id": "HYUjRKPd9-m9"
      },
      "execution_count": 5,
      "outputs": []
    },
    {
      "cell_type": "code",
      "source": [
        "import matplotlib.pyplot as plt"
      ],
      "metadata": {
        "id": "b5joAsHq-D3G"
      },
      "execution_count": 16,
      "outputs": []
    },
    {
      "cell_type": "code",
      "source": [
        "from google.colab import drive"
      ],
      "metadata": {
        "id": "Cq0HsDPXK3IU"
      },
      "execution_count": 15,
      "outputs": []
    },
    {
      "cell_type": "markdown",
      "source": [
        "# Mounting the storage source if of dataset\n",
        "\n"
      ],
      "metadata": {
        "id": "-kxqemv1_6c_"
      }
    },
    {
      "cell_type": "code",
      "source": [
        "from google.colab import drive\n",
        "drive.mount('/content/drive')"
      ],
      "metadata": {
        "colab": {
          "base_uri": "https://localhost:8080/"
        },
        "id": "ORXtwLFgFD4A",
        "outputId": "a11244dc-c984-4ddf-b54c-9a99d9d1c96a"
      },
      "execution_count": 27,
      "outputs": [
        {
          "output_type": "stream",
          "name": "stdout",
          "text": [
            "Drive already mounted at /content/drive; to attempt to forcibly remount, call drive.mount(\"/content/drive\", force_remount=True).\n"
          ]
        }
      ]
    },
    {
      "cell_type": "code",
      "source": [
        "# Defining the dataset path\n",
        "dataset_path = '/content/drive/My Drive/data'"
      ],
      "metadata": {
        "id": "uFuvttbyOZqr"
      },
      "execution_count": 29,
      "outputs": []
    },
    {
      "cell_type": "markdown",
      "source": [
        "# Read Image"
      ],
      "metadata": {
        "id": "v5IB2G0DaoUM"
      }
    },
    {
      "cell_type": "code",
      "source": [
        "image_path = '/content/drive/My Drive/data/image1.jpg'\n"
      ],
      "metadata": {
        "id": "1u7crGxuasea"
      },
      "execution_count": 30,
      "outputs": []
    },
    {
      "cell_type": "code",
      "source": [
        "img = cv2.imread(image_path)"
      ],
      "metadata": {
        "id": "JsTIQmtga3jt"
      },
      "execution_count": 31,
      "outputs": []
    },
    {
      "cell_type": "markdown",
      "source": [
        "# Instance text detector"
      ],
      "metadata": {
        "id": "awYMDi_IbMvN"
      }
    },
    {
      "cell_type": "code",
      "source": [
        "#instance text detector\n",
        "reader = easyocr.Reader(['en'], gpu=False)"
      ],
      "metadata": {
        "colab": {
          "base_uri": "https://localhost:8080/"
        },
        "id": "-ViYrlQwP-aO",
        "outputId": "3b989cf3-f9e2-459a-ff0a-6dbcb91d6fc2",
        "collapsed": true
      },
      "execution_count": 32,
      "outputs": [
        {
          "output_type": "stream",
          "name": "stderr",
          "text": [
            "WARNING:easyocr.easyocr:Using CPU. Note: This module is much faster with a GPU.\n"
          ]
        }
      ]
    },
    {
      "cell_type": "markdown",
      "source": [
        "# Detect text on image"
      ],
      "metadata": {
        "id": "Xj1E37esbQyx"
      }
    },
    {
      "cell_type": "code",
      "source": [
        "text = reader.readtext(img)\n",
        "print(text)"
      ],
      "metadata": {
        "colab": {
          "base_uri": "https://localhost:8080/"
        },
        "id": "Ii2Y9ldxceqM",
        "outputId": "8716765e-d85c-4462-adc7-b13750a611ee"
      },
      "execution_count": 33,
      "outputs": [
        {
          "output_type": "stream",
          "name": "stdout",
          "text": [
            "[([[227, 0], [500, 0], [500, 244], [227, 244]], 'CL', 0.9990413781236792), ([[843, 28], [1220, 28], [1220, 285], [843, 285]], 'CFA', 0.6756222063094138), ([[1323, 22], [1849, 22], [1849, 299], [1323, 299]], '4820', 0.9977404475212097), ([[2088, 32], [2353, 32], [2353, 285], [2088, 285]], 'CF', 0.9859030899093922), ([[2436, 54], [2535, 54], [2535, 252], [2436, 252]], '1', 0.9998345443505627), ([[2737, 28], [3118, 28], [3118, 281], [2737, 281]], 'HHT', 0.48710015157166525), ([[3564, 16], [3954, 16], [3954, 273], [3564, 273]], 'CEY', 0.8252737020450253), ([[4173, 10], [4611, 10], [4611, 280], [4173, 280]], 'ABX', 0.9983461685491322), ([[4688, 15], [5237, 15], [5237, 282], [4688, 282]], '1024', 0.8838759122843207), ([[40, 217], [675, 217], [675, 493], [40, 493]], '29456', 0.9998251347861047), ([[2018, 257], [2643, 257], [2643, 530], [2018, 530]], '71368', 0.9962146400850844), ([[2732, 260], [3363, 260], [3363, 537], [2732, 537]], '397GP', 0.9362622270631574), ([[3443, 259], [4071, 259], [4071, 526], [3443, 526]], '16892', 0.9995737064018037), ([[814, 413], [1075, 413], [1075, 670], [814, 670]], 'Ch', 0.5283247337453706), ([[1227, 407], [1849, 407], [1849, 689], [1227, 689]], '48461', 0.9948386220348114), ([[4126, 404], [4906, 404], [4906, 688], [4126, 688]], 'CG77 YB', 0.43589948776722387), ([[4882, 556], [5023, 556], [5023, 585], [4882, 585]], 'GAUTENG', 0.8680533402411866), ([[5027, 428], [5294, 428], [5294, 692], [5027, 692]], 'GP', 0.8619513247988303), ([[801, 656], [869, 656], [869, 675], [801, 675]], 'UP 08201C', 0.09146201416028782), ([[223, 583], [475, 583], [475, 781], [223, 781]], 'CR', 0.9999133471791279), ([[2192, 616], [2460, 616], [2460, 863], [2192, 863]], 'C1', 0.2967866554911083), ([[2836, 611], [3222, 611], [3222, 868], [2836, 868]], 'CEA', 0.99953379052094), ([[3615, 616], [3882, 616], [3882, 863], [3615, 863]], 'CK', 0.8682137980155076), ([[95, 768], [603, 768], [603, 991], [95, 991]], '3932', 0.9972060918807983), ([[907, 769], [1902, 769], [1902, 1073], [907, 1073]], 'ABP 3649', 0.9062308694849479), ([[2027, 860], [2658, 860], [2658, 1125], [2027, 1125]], '16010', 0.8715129795840916), ([[2783, 851], [3275, 851], [3275, 1112], [2783, 1112]], '8411', 0.9999826550483704), ([[3434, 831], [4076, 831], [4076, 1119], [3434, 1119]], '26283', 0.9999786218550137), ([[4358, 835], [5066, 835], [5066, 1092], [4358, 1092]], 'SMILE', 0.9897656764645397), ([[470, 1194], [563, 1194], [563, 1208], [470, 1208]], 'ATcBRA', 0.004195933413875443), ([[28, 1087], [418, 1087], [418, 1340], [28, 1340]], 'DB2', 0.674139977538201), ([[779, 1168], [1904, 1168], [1904, 1441], [779, 1441]], 'JOURNEY', 0.9991637215648319), ([[2849, 1232], [3238, 1232], [3238, 1485], [2849, 1485]], 'Ccm', 0.28141992749010275), ([[3428, 1228], [3929, 1228], [3929, 1485], [3428, 1485]], '5159', 0.998630940914154), ([[4214, 1240], [4599, 1240], [4599, 1497], [4214, 1497]], 'CFA', 0.7080246426209538), ([[4724, 1230], [5231, 1230], [5231, 1500], [4724, 1500]], '2949', 0.8935779329384509), ([[24, 1319], [674, 1319], [674, 1580], [24, 1580]], '8VHGP', 0.944246882488982), ([[847, 1592], [1108, 1592], [1108, 1849], [847, 1849]], 'Cy', 0.5951908388270926), ([[1233, 1596], [1860, 1596], [1860, 1863], [1233, 1863]], '96054', 0.9995853823126482), ([[2093, 1270], [2592, 1270], [2592, 1910], [2093, 1910]], '24', 0.34098912865877934), ([[2749, 1582], [4058, 1582], [4058, 1854], [2749, 1854]], 'HAPPINESS', 0.9992806809856669), ([[4136, 1599], [5284, 1599], [5284, 1888], [4136, 1888]], 'GOLD 1-HP', 0.8586928278682887), ([[206, 1736], [471, 1736], [471, 1989], [206, 1989]], 'Ck', 0.5405763654149897), ([[32, 1972], [641, 1972], [641, 2225], [32, 2225]], '40_68', 0.49426800792239095), ([[810, 1955], [1075, 1955], [1075, 2213], [810, 2213]], 'BH', 0.9992882982231606), ([[1145, 1964], [1725, 1964], [1725, 2221], [1145, 2221]], '96 HV', 0.924000372415287), ([[1720, 2098], [1860, 2098], [1860, 2139], [1720, 2139]], 'GAUTENG', 0.9999907633265847), ([[1856, 1972], [2122, 1972], [2122, 2229], [1856, 2229]], 'GP', 0.9319975839583469), ([[2782, 1948], [4010, 1948], [4010, 2215], [2782, 2215]], 'CF 2224.009', 0.5067095787272712), ([[4131, 1964], [5277, 1964], [5277, 2225], [4131, 2225]], 'FREEDOM', 0.9903348042136991), ([[2253, 2030], [2510, 2030], [2510, 2452], [2253, 2452]], '2', 0.30658332701890245), ([[27, 2345], [1164, 2345], [1164, 2616], [27, 2616]], 'P169-029', 0.3569747038730938), ([[1427, 2370], [1943, 2370], [1943, 2617], [1427, 2617]], 'CAM', 0.988697602339304), ([[3011, 2366], [3514, 2366], [3514, 2609], [3011, 2609]], 'Joy', 0.5834028264234394), ([[4077, 2348], [4351, 2348], [4351, 2601], [4077, 2601]], 'CJ', 0.6841088070125078), ([[4578, 2361], [5075, 2361], [5075, 2618], [4578, 2618]], '9817', 0.9999082684516907), ([[41, 2696], [1162, 2696], [1162, 3002], [41, 3002]], 'CEM5469', 0.9554597522069732), ([[1376, 2597], [1989, 2597], [1989, 2854], [1376, 2854]], '5550', 0.9997004270553589), ([[2247, 2463], [2505, 2463], [2505, 3182], [2247, 3182]], '4', 0.6126348754862789), ([[2690, 2752], [3778, 2752], [3778, 3033], [2690, 3033]], 'CEM 14042', 0.8988897246914183), ([[3977, 2744], [4381, 2744], [4381, 3008], [3977, 3008]], 'CFM', 0.990571443518598), ([[4502, 2753], [5125, 2753], [5125, 3020], [4502, 3020]], '75497', 0.9990025267750681), ([[1525, 2931], [1999, 2931], [1999, 3197], [1525, 3197]], 'ABC', 0.9997380546851536), ([[48, 3127], [510, 3127], [510, 3400], [48, 3400]], 'CEO', 0.9974427446873834), ([[590, 3110], [1183, 3110], [1183, 3387], [590, 3387]], '3452', 0.9999921321868896), ([[1410, 3159], [2002, 3159], [2002, 3420], [1410, 3420]], '9347', 0.9920211434364319), ([[2683, 3137], [5246, 3137], [5246, 3429], [2683, 3429]], 'CF 171.368E) CAM-8542', 0.6656614215848085)]\n"
          ]
        }
      ]
    },
    {
      "cell_type": "markdown",
      "source": [],
      "metadata": {
        "id": "R4ic1UArbUW_"
      }
    },
    {
      "cell_type": "markdown",
      "source": [
        "# draw box and text"
      ],
      "metadata": {
        "id": "RW9AxrGtbVAG"
      }
    }
  ]
}